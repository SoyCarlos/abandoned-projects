{
 "cells": [
  {
   "cell_type": "code",
   "execution_count": null,
   "metadata": {},
   "outputs": [],
   "source": [
    "import spotipy as sp\n",
    "from spotipy.oauth2 import SpotifyClientCredentials\n",
    "import spotipy.util as util\n",
    "import pandas as pd\n",
    "from pandas.io.json import json_normalize\n",
    "import json\n",
    "import datetime\n",
    "import lyricsgenius"
   ]
  },
  {
   "cell_type": "markdown",
   "execution_count": null,
   "metadata": {},
   "outputs": [],
   "source": [
    "## Importing Spotify Data"
   ]
  },
  {
   "cell_type": "code",
   "execution_count": null,
   "metadata": {},
   "outputs": [],
   "source": [
    "with open('data/StreamingHistory0.json', 'rb') as data:\n",
    "    history_0_json = json.load(data)\n",
    "with open('data/StreamingHistory1.json', 'rb') as data:\n",
    "    history_1_json = json.load(data)"
   ]
  },
  {
   "cell_type": "code",
   "execution_count": null,
   "metadata": {},
   "outputs": [],
   "source": [
    "history_0 = pd.DataFrame(history_0_json)\n",
    "history_1 = pd.DataFrame(history_1_json)\n",
    "history = history_0.append(history_1)\n",
    "history = history[['artistName', 'endTime', 'trackName']]\n",
    "history['source'] = [0] * history.shape[0]"
   ]
  },
  {
   "cell_type": "code",
   "execution_count": null,
   "metadata": {},
   "outputs": [],
   "source": [
    "history.sort_values('endTime', ascending=True).head()"
   ]
  },
  {
   "cell_type": "code",
   "execution_count": null,
   "metadata": {},
   "outputs": [],
   "source": [
    "spotify_streams = history.shape[0]\n",
    "spotify_songs = len(history['trackName'].unique())\n",
    "spotify_artists = len(history['artistName'].unique())"
   ]
  },
  {
   "cell_type": "code",
   "execution_count": null,
   "metadata": {},
   "outputs": [],
   "source": [
    "spotify_artists, spotify_songs, spotify_streams"
   ]
  },
  {
   "cell_type": "markdown",
   "execution_count": null,
   "metadata": {},
   "outputs": [],
   "source": [
    "## Merging Last.fm Data"
   ]
  },
  {
   "cell_type": "code",
   "execution_count": null,
   "metadata": {},
   "outputs": [],
   "source": [
    "lastfm = pd.read_csv('data/last_fm.csv', header=None)\n",
    "lastfm.rename(columns={0:'artistName', 1:'album', 2:'trackName', 3:'endTime'}, inplace=True)\n",
    "lastfm['endTime'] = pd.to_datetime(lastfm['endTime'])\n",
    "lastfm = lastfm[['artistName', 'trackName', 'endTime']]\n",
    "lastfm = lastfm[lastfm['endTime'] < datetime.date(2019, 2, 6)]\n",
    "lastfm['source'] = [1] * lastfm.shape[0]\n",
    "lastfm.head()"
   ]
  },
  {
   "cell_type": "code",
   "execution_count": null,
   "metadata": {},
   "outputs": [],
   "source": [
    "lastfm.shape"
   ]
  },
  {
   "cell_type": "code",
   "execution_count": null,
   "metadata": {},
   "outputs": [],
   "source": [
    "history = history.append(lastfm)\n",
    "history.reset_index(inplace=True, drop=True)\n",
    "# history.to_csv(\"data/history.csv\", index=False)"
   ]
  },
  {
   "cell_type": "code",
   "execution_count": null,
   "metadata": {},
   "outputs": [],
   "source": [
    "history.head()"
   ]
  },
  {
   "cell_type": "code",
   "execution_count": null,
   "metadata": {},
   "outputs": [],
   "source": [
    "total_streams = history.shape[0]\n",
    "total_songs = len(history['trackName'].unique())\n",
    "total_artists = len(history['artistName'].unique())"
   ]
  },
  {
   "cell_type": "code",
   "execution_count": null,
   "metadata": {},
   "outputs": [],
   "source": [
    "total_artists, total_songs, total_streams"
   ]
  },
  {
   "cell_type": "markdown",
   "execution_count": null,
   "metadata": {},
   "outputs": [],
   "source": [
    "## Obtaining Lyrics & Spotify Valence"
   ]
  },
  {
   "cell_type": "code",
   "execution_count": null,
   "metadata": {},
   "outputs": [],
   "source": [
    "history = pd.read_csv(\"data/history.csv\")\n",
    "history.head()"
   ]
  },
  {
   "cell_type": "code",
   "execution_count": null,
   "metadata": {},
   "outputs": [],
   "source": [
    "key_file = 'keys/keys.json'\n",
    "keys = json.load(open(key_file))\n",
    "\n",
    "SPOTIPY_CLIENT_ID= keys[\"client_id\"]\n",
    "SPOTIPY_CLIENT_SECRET= keys[\"client_secret\"]\n",
    "GENIUS = keys[\"genius\"]"
   ]
  },
  {
   "cell_type": "code",
   "execution_count": null,
   "metadata": {},
   "outputs": [],
   "source": [
    "spotify = sp.Spotify()\n",
    "client_credentials_manager = SpotifyClientCredentials(client_id=SPOTIPY_CLIENT_ID,\n",
    "                                                     client_secret=SPOTIPY_CLIENT_SECRET)\n",
    "spotify = sp.Spotify(client_credentials_manager=client_credentials_manager)\n",
    "genius = lyricsgenius.Genius(GENIUS)"
   ]
  },
  {
   "cell_type": "code",
   "execution_count": null,
   "metadata": {},
   "outputs": [],
   "source": [
    "valences = []\n",
    "durations = []\n",
    "checked_valences = {}\n",
    "checked_durations = {}\n",
    "failed_spotify = []\n",
    "\n",
    "for index, row in history.iterrows():\n",
    "    if index % 10 == 0:\n",
    "        print(index)\n",
    "    \n",
    "    try:\n",
    "        if (row['artistName'] + row['trackName']) in checked_valences.keys():\n",
    "            durations.append(checked_durations[row['artistName'] + row['trackName']])\n",
    "            valences.append(checked_valences[row['artistName'] + row['trackName']])\n",
    "        else:\n",
    "            song_id = spotify.search('artist: ' + row['artistName'] + ', track: ' + row['trackName'])['tracks']['items'][0]['id']\n",
    "            features = spotify.audio_features(song_id)[0]\n",
    "            valence = features['valence']\n",
    "            checked_valences[row['artistName'] + row['trackName']] = valence\n",
    "            duration = features['duration_ms']\n",
    "            checked_durations[row['artistName'] + row['trackName']] = duration\n",
    "\n",
    "            durations.append(duration)\n",
    "            valences.append(valence)\n",
    "    except:\n",
    "        failed_spotify.append(index)\n",
    "        checked_valences[row['artistName'] + row['trackName']] = None\n",
    "        checked_durations[row['artistName'] + row['trackName']] = None\n",
    "        valences.append(None)\n",
    "        durations.append(None)"
   ]
  },
  {
   "cell_type": "code",
   "execution_count": null,
   "metadata": {},
   "outputs": [],
   "source": [
    "history['valence'] = valences\n",
    "history['duration_ms'] = durations\n",
    "# history.to_csv(\"data/history.csv\", index=False)"
   ]
  },
  {
   "cell_type": "code",
   "execution_count": null,
   "metadata": {},
   "outputs": [
    {
     "output_type": "stream",
     "name": "stdout",
     "text": "hing for \"Dangerous World (feat. Travis Scott & YG)\"...\nSearching for \"Alive (with Offset & 2 Chainz)\"...\nSearching for \"My Nigga\"...\nSearching for \"Never Call Me (feat. YG) - Remix\"...\nSearching for \"SLAY (feat. Quavo)\"...\nSearching for \"She Bad\"...\nSearching for \"Same Bitches (feat. G-Eazy & YG)\"...\nSearching for \"Turn Down for What\"...\nSearching for \"Demasiado Loca\"...\n1780\nSearching for \"Don't Tell 'Em\"...\nSearching for \"That's My N**** (with Meek Mill, YG & Snoop Dogg)\"...\nSearching for \"Culo\"...\nSearching for \"HANDGUN (feat. A$AP Rocky)\"...\nSearching for \"Toot It And Boot It\"...\n1790\nSearching for \"Why You Always Hatin?\"...\nSearching for \"Plug Walk (feat. Gucci Mane, YG, 2Chainz) - Remix\"...\nSearching for \"I Wanna Benz\"...\nSearching for \"Who Do You Love?\"...\nSearching for \"BULLETPROOF (feat. Jay 305)\"...\nSearching for \"F.I.G.H.T. (with Eearz, Gucci Mane, YG, Trouble, Quavo & Juicy J)\"...\nSearching for \"Ride Out\"...\nSearching for \"One Time Comin'\"...\nSearching for \"I Just Wanna Party\"...\nSearching for \"BPT\"...\n1800\nSearching for \"SUU WHOOP\"...\nSearching for \"Want Her\"...\nSearching for \"Left, Right\"...\nSearching for \"Extra Luv\"...\nSearching for \"Stripper Name (feat. YG and 2 Chainz)\"...\nSearching for \"Gucci On My (feat. 21 Savage, YG & Migos)\"...\nSearching for \"Can't Relate (feat. YBN Nahmir, YG)\"...\nSearching for \"TOO COCKY\"...\nSearching for \"PROUD\"...\nSearching for \"Twist My Fingaz\"...\n1810\nSearching for \"Ex (feat. YG)\"...\nSearching for \"Endless Summer Freestyle\"...\nSearching for \"Spray (feat. Tyga & YG)\"...\nSearching for \"La La Land (feat. YG)\"...\nSearching for \"Control (feat. Bryce Vine & Dan Caplen)\"...\nSearching for \"Drew Barrymore\"...\n1820\n1830\n1840\n1850\n1860\n1870\n1880\nSearching for \"Hot Boy\"...\nSearching for \"Money Longer\"...\nSearching for \"Tone\"...\nSearching for \"We Dem Boyz\"...\nSearching for \"Dum Dum\"...\nSearching for \"A Milli\"...\nSearching for \"Loud\"...\nSearching for \"Real N***** In The Building (feat. Travis Porter & Kirko Bangz)\"...\nSearching for \"New Level\"...\n1890\nSearching for \"Blue Suede\"...\nSearching for \"American Boy\"...\nSearching for \"I Need a Girl\"...\nSearching for \"Yo (Excuse Me Miss)\"...\nSearching for \"Band It (feat. Chedda Da Connect)\"...\nSearching for \"Let It Go\"...\nSearching for \"Defying Gravity - From \"Wicked\" Original Broadway Cast Recording/2003\"...\nSearching for \"Let Me Love You\"...\n1900\nSearching for \"Opening Up\"...\nSearching for \"The Negative\"...\nSearching for \"What Baking Can Do\"...\nSearching for \"Just One Lifetime (with Shaggy)\"...\n1910\nSearching for \"Te Tengo Que Meter En Mi Vida - Versión Acústica\"...\n1920\nSearching for \"Nada Contigo\"...\nSearching for \"Juana Mecho - Recorded at Spotify Studios NYC\"...\nSearching for \"Semitransparente\"...\nSearching for \"Joane\"...\n1930\nSearching for \"La Luna\"...\nSearching for \"Agüitaecoco\"...\nSearching for \"Isla Morenita\"...\nSearching for \"Habrá\"...\nSearching for \"Amor Eterno\"...\nSearching for \"El Volcán\"...\n1940\nSearching for \"Para Abajo y para Atrás\"...\nSearching for \"Adiós\"...\nSearching for \"Alma Mía (feat. Los Macorinos)\"...\nSearching for \"Distancia\"...\nSearching for \"Entre Luca Y Juan Mejía\"...\nSearching for \"La Bilirrubina\"...\nSearching for \"Salvavidas de hielo (feat. Natalia Lafourcade)\"...\n1950\n1960\n1970\n1980\nSearching for \"Todas Juntas (feat. Vicente García)\"...\nSearching for \"In the Name of Love\"...\nSearching for \"What the Heck I Gotta Do\"...\nSearching for \"Freeee (Ghost Town Pt. 2)\"...\n1990\nSearching for \"Fire\"...\nSearching for \"#WhiteGirlVoice\"...\nSearching for \"My Word\"...\nSearching for \"Fly By Night\"...\nSearching for \"At Least I'll Know I Tried\"...\nSearching for \"What You Do to Me\"...\nSearching for \"Breakfast All Day\"...\nSearching for \"The Prophecy 2\"...\nSearching for \"More Than Just a Friend\"...\nSearching for \"I Need More\"...\n2000\nSearching for \"Stars I Trust\"...\nSearching for \"Me With You\"...\nSearching for \"The Rut\"...\nSearching for \"Cecily Smith (Bonus Track)\"...\nSearching for \"Circles in the Sand\"...\nSearching for \"November Stars\"...\n2010\nSearching for \"Eternity\"...\nSearching for \"Glory\"...\nSearching for \"LIFE\"...\nSearching for \"DR. WHOEVER\"...\nSearching for \"Amorfoda\"...\nSearching for \"Drift\"...\n2020\nSearching for \"To the Man Who Let Her Go\"...\nSearching for \"Hear Me Now (feat. DIAMANTE)\"...\nSearching for \"Movements\"...\nSearching for \"Still D.R.E.\"...\nSearching for \"Pretty Little Fears (feat. J. Cole)\"...\nSearching for \"Zombie\"...\nSearching for \"Remember When\"...\nSearching for \"Don't Cry (feat. XXXTENTACION)\"...\nSearching for \"Quick\"...\n2030\nSearching for \"Hard For\"...\nSearching for \"Innamission\"...\nSearching for \"Girls @ (feat. Chance the Rapper)\"...\nSearching for \"MICHUUL.\"...\nSearching for \"still feel.\"...\nSearching for \"Tu Sonrisa\"...\nSearching for \"53 Sundays\"...\nSearching for \"RENTAL\"...\n2040\nSearching for \"Me Usaste\"...\nSearching for \"Love Someone\"...\nSearching for \"I don’t even speak spanish lol - feat. Rio Santana, Judah, Andrez Babii\"...\nSearching for \"We're Tired\"...\nSearching for \"Jaque Mate\"...\nSearching for \"2AM Thirst Ballad\"...\nSearching for \"Youth (feat. Khalid)\"...\nSearching for \"Cuando Me Miras\"...\n2050\nSearching for \"BLACKJACK\"...\nSearching for \"Just The Two Of Us\"...\nSearching for \"Daydreamin' (feat. Jill Scott)\"...\nSearching for \"Break My Heart Again\"...\nSearching for \"Siempre Te Voy A Querer\"...\nSearching for \"Fall\"...\nSearching for \"TOGETHER\"...\nSearching for \"Dancing in the Rain (feat. Donnie Trumpet, Brandon Fox & Shay Lewis)\"...\n2060\nSearching for \"¿Por Qué Terminamos?\"...\nSearching for \"Happier\"...\nSearching for \"Lover Boy\"...\nSearching for \"Sundays\"...\nSearching for \"Está Rico\"...\nSearching for \"Fuiste Mía\"...\nSearching for \"Stronger Than You\"...\nSearching for \"Te Metiste\"...\n2070\nSearching for \"Guadalajara\"...\nSearching for \"Happy Birthday (feat. SZA & Isaiah Rashad)\"...\nSearching for \"Wedding Crashers\"...\nSearching for \"Estos Celos - En Vivo\"...\nSearching for \"Take Yours, I'll Take Mine\"...\nSearching for \"Háblame De Ti\"...\nSearching for \"Yellow\"...\n2080\nSearching for \"ShipTrip\"...\nSearching for \"Kick, Push\"...\nSearching for \"Do It for Her\"...\nSearching for \"Everybody Dies\"...\nSearching for \"NEVER\"...\nSearching for \"Un Beso\"...\nSearching for \"THROWYOASSOUT\"...\nSearching for \"Mona Lisa (feat. Kendrick Lamar)\"...\nSearching for \"REDMERCEDES\"...\n2090\nSearching for \"Hazy Miss Daisy\"...\nSearching for \"Here Comes a Thought\"...\nSearching for \"Momma Told Me\"...\nSearching for \"Replay\"...\nSearching for \"Yellow Lights\"...\nSearching for \"Not a Damn Thing Changed\"...\nSearching for \"Venom - Music From The Motion Picture\"...\nSearching for \"BIG LOVE\"...\n2100\nSearching for \"Que Te Ruegue Quien Te Quiera\"...\nSearching for \"Momma\"...\nSearching for \"Drowning (feat. Kodak Black)\"...\nSearching for \"Murder She Wrote\"...\nSearching for \"Come Hang Out\"...\nSearching for \"False Confidence\"...\nSearching for \"Sunflower - Spider-Man: Into the Spider-Verse\"...\nSearching for \"1999 WILDFIRE\"...\nSearching for \"Best Me\"...\n2110\nSearching for \"My Friend\"...\nSearching for \"Nikki\"...\nSearching for \"Mátalas\"...\nSearching for \"May I Have This Dance (Remix) [feat. Chance the Rapper]\"...\nSearching for \"What You Don't Do - Tom Misch Remix\"...\nSearching for \"Cielito Lindo\"...\nSearching for \"Going To Work\"...\nSearching for \"Broad Shoulders (feat. Chance the Rapper)\"...\n2120\nSearching for \"She Cheated Again\"...\nSearching for \"Empty\"...\nSearching for \"Spaceships + Rockets (with LION BABE, feat. Moe Moks, mOma+Guy)\"...\nSearching for \"Veggies\"...\n2130\n2140\n2150\n2160\n2170\n2180\n2190\n2200\n2210\n2220\n2230\n2240\n2250\nSearching for \"Younger\"...\nSearching for \"Dazed & Confused\"...\nSearching for \"Not Thinkin' Bout You\"...\nSearching for \"Don't Tell Me\"...\nSearching for \"Golden Years - M-Phazes Remix\"...\nSearching for \"Say\"...\nSearching for \"Not Thinkin' Bout You (feat. Billy Davis) - Acoustic Version\"...\n2260\nSearching for \"Not Thinkin' Bout You (Remix) (feat. GoldLink)\"...\n2270\n2280\n2290\n2300\nSearching for \"Boasty (feat. Idris Elba)\"...\nSearching for \"No Lie\"...\n2310\n2320\n2330\nSearching for \"Letting People Go (feat. Prinze George)\"...\nSearching for \"Halfway There (feat. Lena Leon)\"...\nSearching for \"Better When You're Gone\"...\nSearching for \"I'm Not Sorry\"...\nSearching for \"Save Me Tonight\"...\nSearching for \"Sahara Love - Seven Lions Remix\"...\nSearching for \"Losing It\"...\nSearching for \"Free\"...\nSearching for \"Fire In My Soul\"...\n2340\nSearching for \"White Lies\"...\nSearching for \"High On Life (feat. Bonn)\"...\n2350\n2360\n2370\nSearching for \"Old Town Road\"...\nSearching for \"doubles\"...\n2380\n2390\n2400\n2410\n2420\n2430\n2440\n2450\n2460\nSearching for \"Boys Will Be Bugs\"...\nSearching for \"This Is Home\"...\nSearching for \"Lemon Boy\"...\nSearching for \"Fool\"...\n2470\nSearching for \"See You Again (feat. Charlie Puth)\"...\nSearching for \"Hopeless Romantic (feat. Swae Lee)\"...\nSearching for \"Sucker For Pain (with Wiz Khalifa, Imagine Dragons, Logic & Ty Dolla $ign feat. X Ambassadors)\"...\nSearching for \"Swervin (feat. 6ix9ine)\"...\n2480\nSearching for \"Young, Wild & Free (feat. Bruno Mars)\"...\nSearching for \"Wow. - Remix\"...\n2490\nSearching for \"wish you were gay\"...\n2500\nSearching for \"bellyache\"...\nSearching for \"idontwannabeyouanymore\"...\nSearching for \"Temperature\"...\nSearching for \"Hey DJ - Remix\"...\n2510\nSearching for \"Sweater\"...\nSearching for \"Intro\"...\nSearching for \"Feel The Love\"...\nSearching for \"Mad Love\"...\n2520\nSearching for \"Él Me Mintió\"...\n2530\n2540\n2550\n2560\n2570\n2580\n2590\nSearching for \"Sit on My Face\"...\n2600\n2610\n2620\n2630\n2640\n2650\n2660\n2670\n2680\n2690\n2700\n2710\n2720\n2730\nSearching for \"this girl\"...\nSearching for \"Don't know why\"...\nSearching for \"Goa\"...\nSearching for \"Today Is a Gift\"...\nSearching for \"Ténegro\"...\nSearching for \"The Dream\"...\n2740\nSearching for \"There Goes My Baby\"...\nSearching for \"I Love You Forever\"...\nSearching for \"Best Friend\"...\nSearching for \"Bohemian Trapsody\"...\n2750\nSearching for \"Can I Kick It\"...\nSearching for \"Time Machine\"...\nSearching for \"Pretty Young Girl\"...\nSearching for \"Fuck You Bitch\"...\n2760\nSearching for \"I Don't Like - MMG Remix\"...\nSearching for \"SupaFreak\"...\nSearching for \"Work REMIX (feat. A$AP Rocky, French Montana, Trinidad James & ScHoolboy Q)\"...\nSearching for \"Connect the Dots (feat. Yo Gotti and Rick Ross)\"...\n2770\nSearching for \"Feel It Still\"...\n2780\n2790\n2800\n2810\n2820\n2830\n2840\n2850\nSearching for \"Supermarket\"...\nSearching for \"Baby\"...\nSearching for \"Trust\"...\nSearching for \"Quiet\"...\nSearching for \"[oops]\"...\nSearching for \"Swingtheory\"...\nSearching for \"5:32pm\"...\n2860\nSearching for \"Blow the Whistle\"...\nSearching for \"Shake That Monkey (feat. Lil' Jon & The EastSide Boyz)\"...\nSearching for \"Save All That Love (feat. Mozzy, Mistah F.A.B. & Nef The Pharaoh)\"...\nSearching for \"Gettin' It\"...\nSearching for \"I'm a Player - Street Version\"...\nSearching for \"Of All Things\"...\n2870\nSearching for \"By The Bridge\"...\n2880\nSearching for \"Lemon Drop\"...\nSearching for \"I'm Probably Gonna Rock Your World\"...\nSearching for \"Vacation From Myself\"...\nSearching for \"DeLorean\"...\nSearching for \"100 Miles and Running (ft. Wale & John Lindahl)\"...\nSearching for \"Sundress\"...\n2890\nSearching for \"Cuando Te Besé\"...\nSearching for \"Booty\"...\nSearching for \"Zooted (feat. French Montana & Farruko)\"...\nSearching for \"Mayores\"...\n2900\n2910\nSearching for \"Que Nos Animemos\"...\nSearching for \"Everywhere We Go\"...\n2920\nSearching for \"Heridos\"...\nSearching for \"You\"...\nSearching for \"La Planta\"...\nSearching for \"Umbrella\"...\n2930\nSearching for \"Frontin' (feat. Jay-Z) - Club Mix\"...\nSearching for \"It's Over Now\"...\nSearching for \"Full Moon\"...\nSearching for \"Be Without You - Kendu Mix\"...\nSearching for \"U Remind Me\"...\nSearching for \"Could've Been (feat. Bryson Tiller)\"...\nSearching for \"Bubalu\"...\nSearching for \"Sin Pijama\"...\n2940\nSearching for \"Mala Mía - Remix\"...\nSearching for \"Lost in the Middle of Nowhere (feat. Becky G) (Spanish Remix)\"...\nSearching for \"Green Light Go\"...\nSearching for \"LBD\"...\nSearching for \"Por Un Amor/Cucurrucucú Paloma\"...\nSearching for \"Pienso en Ti\"...\n2950\nSearching for \"Díganle - Tainy Remix\"...\n2960\n2970\nSearching for \"Como Tú No Hay Dos\"...\n2980\nSearching for \"Lovin' So Hard\"...\nSearching for \"For The Thrill (feat. Becky G)\"...\nSearching for \"Play It Again\"...\nSearching for \"Sola\"...\n2990\nSearching for \"Mal de la Cabeza\"...\nSearching for \"Dura - Remix\"...\n3000\n3010\n3020\nSearching for \"Mi Mala - Remix\"...\n3030\n3040\nSearching for \"Boulevard of Broken Dreams\"...\nSearching for \"Riot\"...\nSearching for \"Pain\"...\nSearching for \"One X\"...\n3050\nSearching for \"It's All Over\"...\n3060\nSearching for \"Animal I Have Become\"...\nSearching for \"On My Own\"...\nSearching for \"Never Too Late\"...\nSearching for \"Get Out Alive\"...\nSearching for \"Let It Die\"...\nSearching for \"I Hate Everything About You\"...\nSearching for \"Over and Over\"...\n3070\nSearching for \"The Mountain\"...\n3080\n3090\nSearching for \"It’s Luh\"...\nSearching for \"The Shooter\"...\nSearching for \"One Week\"...\n3100\nSearching for \"Pinch Me\"...\nSearching for \"If I Had $1,000,000\"...\nSearching for \"It's All Been Done\"...\nSearching for \"Adiós Amor\"...\nSearching for \"Probablemente\"...\nSearching for \"Te Voy A Olvidar\"...\nSearching for \"Eres\"...\n3110\nSearching for \"Me Dejé Llevar\"...\nSearching for \"Te Fallé\"...\nSearching for \"Vas A Querer Regresar\"...\nSearching for \"Ojalá\"...\nSearching for \"Yo No Sé Mañana\"...\nSearching for \"Se Me Olvidaba\"...\nSearching for \"Es Mentira\"...\nSearching for \"bad guy\"...\n3120\nSearching for \"Te quiero\"...\n3130\nSearching for \"Intro\"...\nSearching for \"Bad Luck\"...\nSearching for \"My Bad\"...\nSearching for \"Better\"...\n3140\nSearching for \"Talk (feat. Disclosure)\"...\nSearching for \"Right Back\"...\nSearching for \"Don't Pretend (feat. SAFE)\"...\nSearching for \"Paradise\"...\n3150\nSearching for \"Hundred\"...\nSearching for \"Outta My Head (with John Mayer)\"...\nSearching for \"Free Spirit\"...\nSearching for \"Twenty One\"...\nSearching for \"Bluffin'\"...\n3160\nSearching for \"Self\"...\nSearching for \"Alive\"...\nSearching for \"Heaven\"...\n3170\n3180\n3190\nSearching for \"Soldado Imperial\"...\n3200\nSearching for \"Mi Pasado y Mi Presente\"...\nSearching for \"18 Libras\"...\nSearching for \"Dicen De Mi\"...\nSearching for \"El Corrido del Snap (aka el Snap)\"...\nSearching for \"Yo Fui El Elegante\"...\nSearching for \"Morir Con Estilo\"...\nSearching for \"El 24 - Corrido\"...\nSearching for \"Iván Archivaldo\"...\nSearching for \"La Costurera\"...\nSearching for \"Scooby Do Papa\"...\n3210\nSearching for \"Rumba Cha Cha\"...\nSearching for \"Techno Cumbia\"...\nSearching for \"Saturday Nights\"...\n3220\n3230\n3240\n3250\n3260\n3270\nSearching for \"8TEEN\"...\nSearching for \"Heebiejeebies - Bonus\"...\nSearching for \"i'm so tired...\"...\nSearching for \"Playinwitme (feat. Kehlani)\"...\nSearching for \"do u even miss me at all?\"...\nSearching for \"Honesty\"...\n3280\nSearching for \"Who Hurt You?\"...\nSearching for \"Stay\"...\nSearching for \"Always Been You\"...\nSearching for \"Saved\"...\nSearching for \"Talk\"...\nSearching for \"Who Do You Love\"...\nSearching for \"Sky Walker (feat. Travis Scott)\"...\nSearching for \"Mine\"...\nSearching for \"I Want You\"...\n3290\n3300\nSearching for \"Country Roads\"...\nSearching for \"Take Me Home, Country Roads\"...\nSearching for \"Take Me Home, Country Roads - Rerecorded\"...\nSearching for \"lovely (with Khalid)\"...\n3310\n3320\n3330\nSearching for \"Con Calma\"...\nSearching for \"Adictiva\"...\nSearching for \"Asesina - Remix\"...\nSearching for \"Despacito - Remix\"...\nSearching for \"Dura\"...\nSearching for \"Timber\"...\nSearching for \"I Know You Want Me (Calle Ocho)\"...\n3340\nSearching for \"Locas (feat. Lil Jon)\"...\nSearching for \"Go Girl\"...\nSearching for \"Hey You Girl\"...\n3350\n3360\n3370\n3380\n3390\n3400\nSearching for \"So Good\"...\nSearching for \"Airplanes, Pt. II (feat. Eminem & Hayley Williams of Paramore)\"...\nSearching for \"Don't Let Me Fall\"...\nSearching for \"Ghost in the Machine\"...\nSearching for \"Airplanes (feat. Hayley Williams)\"...\nSearching for \"Bet I (feat. T.I. & Playboy Tre)\"...\nDone.\n3410\nSearching for \"Lovelier Than You\"...\nDone.\nSearching for \"Strange Clouds (feat. Lil Wayne)\"...\nDone.\nSearching for \"The Kids (feat. Janelle Monáe)\"...\nDone.\nSearching for \"Castles (feat. Trey Songz)\"...\nDone.\nSearching for \"So Hard to Breathe\"...\nDone.\nSearching for \"Circles\"...\nDone.\nSearching for \"Never Let You Go (feat. Ryan Tedder)\"...\nDone.\n3420\nSearching for \"Out of My Mind (feat. Nicki Minaj)\"...\nDone.\nSearching for \"Arena (feat. Chris Brown & T.I.)\"...\nDone.\nSearching for \"Play for Keeps\"...\nDone.\nSearching for \"Where Are You (B.o.B vs. Bobby Ray)\"...\nDone.\nSearching for \"Chandelier (feat. Lauriana Mae)\"...\nDone.\nSearching for \"Bombs Away (feat. Morgan Freeman)\"...\nDone.\nSearching for \"Past My Shades (feat. Lupe Fiasco)\"...\nDone.\n3430\nSearching for \"Both of Us (feat. Taylor Swift)\"...\nDone.\nSearching for \"Just a Sign (feat. Playboy Tre)\"...\nDone.\n3440\n3450\n3460\n3470\n3480\nSearching for \"Cecily Smith\"...\nDone.\nSearching for \"Nothin' on You (feat. Bruno Mars)\"...\nDone.\nSearching for \"Day 'N' Nite (nightmare)\"...\nDone.\nSearching for \"Reborn\"...\nDone.\nSearching for \"Cudi Montage\"...\nDone.\nSearching for \"5th Dimension (feat. Ricco Barrino)\"...\nDone.\n3490\nSearching for \"Scalp\"...\nDone.\nSearching for \"Fame\"...\nDone.\nSearching for \"The Best Day\"...\nDone.\nSearching for \"Shotgun\"...\nDone.\nSearching for \"Sunshine\"...\nDone.\nSearching for \"Yesterday\"...\nDone.\n3500\nSearching for \"The Loser Wins\"...\nDone.\nSearching for \"Until The Nipples Gone\"...\nDone.\nSearching for \"Americareful\"...\nDone.\nSearching for \"Sound Is Vibration\"...\nDone.\nSearching for \"The Major Leagues\"...\nDone.\nSearching for \"Trying To Find A Balance\"...\nDone.\nSearching for \"The Number None\"...\nDone.\n3510\nSearching for \"Hope\"...\nDone.\nSearching for \"Freefallin'\"...\nDone.\nSearching for \"To All My Friends\"...\nDone.\nSearching for \"The 4th Branch\"...\nDone.\nSearching for \"Delicate\"...\nDone.\n3520\nSearching for \"Supercell\"...\nDone.\n3530\nSearching for \"How Am I Supposed to Live Without You\"...\nDone.\nSearching for \"When a Man Loves a Woman\"...\nDone.\nSearching for \"Deepthroat\"...\nDone.\nSearching for \"El Rey Azul - En Vivo Los Estudios Churubusco México DF/2011\"...\nSpecified song was not first result :(\n3540\nSearching for \"Ya No Vivo Por Vivir\"...\nDone.\nSearching for \"Jefe De Jefes\"...\nDone.\nSearching for \"Si No Te Hubieras Ido\"...\nDone.\nSearching for \"Ni Aquí Ni Allá\"...\nDone.\nSearching for \"Que Nadie Sepa Mi Sufrir\"...\nDone.\n3550\nSearching for \"La Señal\"...\nDone.\nSearching for \"Dale Don Dale\"...\nDone.\nSearching for \"Amarte A La Antigua\"...\nDone.\nSearching for \"Sé Que Te Duele\"...\nDone.\nSearching for \"La Gozadera\"...\nTimeout raised and caught\nDone.\nSearching for \"Rata De Dos Patas\"...\nDone.\nSearching for \"No Eres Tu, Soy Yo! - Bonus Track\"...\nDone.\nSearching for \"La Bicicleta\"...\nDone.\nSearching for \"Yo Quiero (Si Tu Te Enamoras)\"...\nDone.\n3560\nSearching for \"Darte un Beso\"...\nDone.\n3570\n3580\nSearching for \"I'm N Luv (Wit a Stripper) (feat. Mike Jones)\"...\nDone.\n3590\n3600\n3610\n3620\n3630\n3640\nSearching for \"I Got You\"...\nDone.\nSearching for \"Marry Me\"...\nDone.\nSearching for \"Hey, Soul Sister\"...\nDone.\n3650\nSearching for \"Drive By\"...\nDone.\nSearching for \"Drops of Jupiter\"...\nDone.\nSearching for \"50 Ways to Say Goodbye\"...\nDone.\n3660\n3670\nSearching for \"Gangsta Gangsta\"...\nDone.\nSearching for \"Straight Outta Compton\"...\nDone.\nSearching for \"Check Yo Self - Remix\"...\nDone.\n3680\nSearching for \"Express Yourself\"...\nDone.\nSearching for \"It Was A Good Day\"...\nDone.\nSearching for \"Regulate\"...\nDone.\nSearching for \"Fuck Tha Police\"...\nDone.\nSearching for \"Dopeman - Remix\"...\nDone.\n3690\n3700\n3710\n3720\n3730\n3740\nSearching for \"Mad\"...\nDone.\nSearching for \"Replay\"...\nDone.\n3750\nSearching for \"Down\"...\nDone.\nSearching for \"Do You Remember\"...\nDone.\nSearching for \"PUSH BACK\"...\nDone.\nSearching for \"One In A Million\"...\nDone.\nSearching for \"Solo\"...\nDone.\nSearching for \"“Caterpillars 1st” (INTRO)\"...\nDone.\n3760\nSearching for \"Beautiful Girls\"...\nDone.\nSearching for \"Your Sister\"...\nDone.\nSearching for \"Drummer Boy\"...\nDone.\nSearching for \"Kingston\"...\nSearching for \"Pretty Girls (feat. Travie McCoy)\"...\n"
    }
   ],
   "source": [
    "lyrics = []\n",
    "failed_lyrics = []\n",
    "checked_lyrics = {}\n",
    "\n",
    "for index, row in history.iterrows():\n",
    "    if index % 10 == 0:\n",
    "        print(index)\n",
    "\n",
    "    if (row['artistName'] + row['trackName']) in checked_lyrics.keys():\n",
    "        lyrics.append(checked_lyrics[row['artistName'] + row['trackName']])\n",
    "    else:\n",
    "        try:\n",
    "            song = genius.search_song(row['trackName'],  artist_name=row['artistName'], take_first_result=True)\n",
    "            if song is None:\n",
    "                lyrics.append(None)\n",
    "                checked_lyrics[row['artistName'] + row['trackName']] = None\n",
    "            else:\n",
    "                lyrics.append(song.lyrics)\n",
    "                checked_lyrics[row['artistName'] + row['trackName']] = song.lyrics\n",
    "        except:\n",
    "            lyrics.append(None)\n",
    "            checked_lyrics[row['artistName'] + row['trackName']] = None\n",
    "            failed_lyrics.append(index)"
   ]
  },
  {
   "cell_type": "code",
   "execution_count": null,
   "metadata": {},
   "outputs": [],
   "source": [
    "history['lyrics'] = lyrics\n",
    "history.to_csv(\"data/history.csv\", index=False)"
   ]
  },
  {
   "cell_type": "code",
   "execution_count": null,
   "metadata": {},
   "outputs": [],
   "source": [
    "genius.search_song(\"bos\")"
   ]
  }
 ],
 "metadata": {
  "file_extension": ".py",
  "kernelspec": {
   "display_name": "Python 3",
   "language": "python",
   "name": "python3"
  },
  "language_info": {
   "codemirror_mode": {
    "name": "ipython",
    "version": 3
   },
   "file_extension": ".py",
   "mimetype": "text/x-python",
   "name": "python",
   "nbconvert_exporter": "python",
   "pygments_lexer": "ipython3",
   "version": "3.6.10-final"
  },
  "mimetype": "text/x-python",
  "name": "python",
  "npconvert_exporter": "python",
  "pygments_lexer": "ipython3",
  "version": 3
 },
 "nbformat": 4,
 "nbformat_minor": 2
}